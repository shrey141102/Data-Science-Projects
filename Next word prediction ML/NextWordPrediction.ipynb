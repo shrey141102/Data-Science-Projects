{
  "nbformat": 4,
  "nbformat_minor": 0,
  "metadata": {
    "colab": {
      "name": "NextWordPrediction.ipynb",
      "provenance": [],
      "collapsed_sections": []
    },
    "kernelspec": {
      "name": "python3",
      "display_name": "Python 3"
    },
    "language_info": {
      "name": "python"
    }
  },
  "cells": [
    {
      "cell_type": "markdown",
      "source": [
        "#Importing Libraries"
      ],
      "metadata": {
        "id": "7GzJi1a_0oAe"
      }
    },
    {
      "cell_type": "code",
      "execution_count": 3,
      "metadata": {
        "id": "zNhKqaG60lLo"
      },
      "outputs": [],
      "source": [
        "import numpy as np\n",
        "from nltk.tokenize import RegexpTokenizer\n",
        "from tensorflow.keras.models import Sequential, load_model\n",
        "from tensorflow.keras.layers import LSTM\n",
        "from keras.layers.core import Dense, Activation\n",
        "from tensorflow.keras.optimizers import RMSprop\n",
        "import matplotlib.pyplot as plt\n",
        "import pickle\n",
        "import heapq"
      ]
    },
    {
      "cell_type": "markdown",
      "source": [
        "#Loading Data"
      ],
      "metadata": {
        "id": "PvdGs0Ws0tzR"
      }
    },
    {
      "cell_type": "code",
      "source": [
        "path = '1661-0.txt'\n",
        "text = open(path).read().lower()\n",
        "print('corpus length:', len(text))"
      ],
      "metadata": {
        "colab": {
          "base_uri": "https://localhost:8080/"
        },
        "id": "Jw76nToF0yKr",
        "outputId": "6ad8f5dd-2086-48f8-8ba8-2088974a50db"
      },
      "execution_count": 4,
      "outputs": [
        {
          "output_type": "stream",
          "name": "stdout",
          "text": [
            "corpus length: 581888\n"
          ]
        }
      ]
    },
    {
      "cell_type": "markdown",
      "source": [],
      "metadata": {
        "id": "2XdyN0vkA9pD"
      }
    },
    {
      "cell_type": "code",
      "source": [
        "tokenizer = RegexpTokenizer(r'\\w+')\n",
        "words = tokenizer.tokenize(text)"
      ],
      "metadata": {
        "id": "ez3MAuULA8Jd"
      },
      "execution_count": 5,
      "outputs": []
    },
    {
      "cell_type": "markdown",
      "source": [],
      "metadata": {
        "id": "eonUXq8DA-Oz"
      }
    },
    {
      "cell_type": "code",
      "source": [
        "unique_words = np.unique(words)\n",
        "unique_word_index = dict((c, i) for i, c in enumerate(unique_words))"
      ],
      "metadata": {
        "id": "tyVpAlz3A-fc"
      },
      "execution_count": 6,
      "outputs": []
    },
    {
      "cell_type": "markdown",
      "source": [
        "#Feature Engineering"
      ],
      "metadata": {
        "id": "uKH4zoKIBCbG"
      }
    },
    {
      "cell_type": "code",
      "source": [
        "WORD_LENGTH = 5\n",
        "prev_words = []\n",
        "next_words = []\n",
        "for i in range(len(words) - WORD_LENGTH):\n",
        "    prev_words.append(words[i:i + WORD_LENGTH])\n",
        "    next_words.append(words[i + WORD_LENGTH])\n",
        "print(prev_words[0])\n",
        "print(next_words[0])"
      ],
      "metadata": {
        "colab": {
          "base_uri": "https://localhost:8080/"
        },
        "id": "nFNLCeY_BGo1",
        "outputId": "092ab7b9-48cc-45bc-dee7-bbf182b0c4c5"
      },
      "execution_count": 7,
      "outputs": [
        {
          "output_type": "stream",
          "name": "stdout",
          "text": [
            "['project', 'gutenberg', 's', 'the', 'adventures']\n",
            "of\n"
          ]
        }
      ]
    },
    {
      "cell_type": "markdown",
      "source": [
        "#One hot encoding"
      ],
      "metadata": {
        "id": "1kr01RjiIbWg"
      }
    },
    {
      "cell_type": "code",
      "source": [
        "X = np.zeros((len(prev_words), WORD_LENGTH, len(unique_words)), dtype=bool)\n",
        "Y = np.zeros((len(next_words), len(unique_words)), dtype=bool)\n",
        "for i, each_words in enumerate(prev_words):\n",
        "    for j, each_word in enumerate(each_words):\n",
        "        X[i, j, unique_word_index[each_word]] = 1\n",
        "    Y[i, unique_word_index[next_words[i]]] = 1"
      ],
      "metadata": {
        "id": "dO7S8Ba7JY04"
      },
      "execution_count": 9,
      "outputs": []
    },
    {
      "cell_type": "code",
      "source": [
        "print(X[0][0])"
      ],
      "metadata": {
        "colab": {
          "base_uri": "https://localhost:8080/"
        },
        "id": "UpQ_ckiRJbMF",
        "outputId": "4c03eabf-6e8c-43ac-b54e-7a10c9fb27b4"
      },
      "execution_count": 10,
      "outputs": [
        {
          "output_type": "stream",
          "name": "stdout",
          "text": [
            "[False False False ... False False False]\n"
          ]
        }
      ]
    },
    {
      "cell_type": "markdown",
      "source": [
        "#Building the Model"
      ],
      "metadata": {
        "id": "U46O2R7UJiIJ"
      }
    },
    {
      "cell_type": "code",
      "source": [
        "model = Sequential()\n",
        "model.add(LSTM(128, input_shape=(WORD_LENGTH, len(unique_words))))\n",
        "model.add(Dense(len(unique_words)))\n",
        "model.add(Activation('softmax'))"
      ],
      "metadata": {
        "id": "ZLxeG_uXJj9R"
      },
      "execution_count": 11,
      "outputs": []
    },
    {
      "cell_type": "markdown",
      "source": [
        "#Training data"
      ],
      "metadata": {
        "id": "GYsul6niJlzi"
      }
    },
    {
      "cell_type": "code",
      "source": [
        "optimizer = RMSprop(lr=0.01)\n",
        "model.compile(loss='categorical_crossentropy', optimizer=optimizer, metrics=['accuracy'])\n",
        "history = model.fit(X, Y, validation_split=0.05, batch_size=128, epochs=10, shuffle=True).history"
      ],
      "metadata": {
        "colab": {
          "base_uri": "https://localhost:8080/"
        },
        "id": "__E-2U4tJnRn",
        "outputId": "18a2d9dd-f5e2-4e48-8324-d805596fa8ea"
      },
      "execution_count": 12,
      "outputs": [
        {
          "output_type": "stream",
          "name": "stdout",
          "text": [
            "Epoch 1/10\n"
          ]
        },
        {
          "output_type": "stream",
          "name": "stderr",
          "text": [
            "/usr/local/lib/python3.7/dist-packages/keras/optimizer_v2/rmsprop.py:130: UserWarning: The `lr` argument is deprecated, use `learning_rate` instead.\n",
            "  super(RMSprop, self).__init__(name, **kwargs)\n"
          ]
        },
        {
          "output_type": "stream",
          "name": "stdout",
          "text": [
            "811/811 [==============================] - 263s 322ms/step - loss: 6.0103 - accuracy: 0.1067 - val_loss: 7.0471 - val_accuracy: 0.1014\n",
            "Epoch 2/10\n",
            "811/811 [==============================] - 248s 306ms/step - loss: 5.7653 - accuracy: 0.1476 - val_loss: 7.9336 - val_accuracy: 0.1077\n",
            "Epoch 3/10\n",
            "811/811 [==============================] - 248s 306ms/step - loss: 5.7562 - accuracy: 0.1765 - val_loss: 8.1242 - val_accuracy: 0.1034\n",
            "Epoch 4/10\n",
            "811/811 [==============================] - 247s 305ms/step - loss: 5.4525 - accuracy: 0.2096 - val_loss: 8.0976 - val_accuracy: 0.1047\n",
            "Epoch 5/10\n",
            "811/811 [==============================] - 245s 302ms/step - loss: 5.1508 - accuracy: 0.2455 - val_loss: 8.2239 - val_accuracy: 0.0934\n",
            "Epoch 6/10\n",
            "811/811 [==============================] - 246s 304ms/step - loss: 4.9085 - accuracy: 0.2843 - val_loss: 8.5737 - val_accuracy: 0.0926\n",
            "Epoch 7/10\n",
            "811/811 [==============================] - 247s 304ms/step - loss: 4.6635 - accuracy: 0.3226 - val_loss: 8.6574 - val_accuracy: 0.0881\n",
            "Epoch 8/10\n",
            "811/811 [==============================] - 247s 305ms/step - loss: 4.4203 - accuracy: 0.3614 - val_loss: 8.7922 - val_accuracy: 0.0855\n",
            "Epoch 9/10\n",
            "811/811 [==============================] - 247s 305ms/step - loss: 4.2501 - accuracy: 0.3950 - val_loss: 9.0871 - val_accuracy: 0.0798\n",
            "Epoch 10/10\n",
            "811/811 [==============================] - 248s 305ms/step - loss: 4.1088 - accuracy: 0.4267 - val_loss: 8.9905 - val_accuracy: 0.0796\n"
          ]
        }
      ]
    },
    {
      "cell_type": "markdown",
      "source": [
        "#Saving the model and reloading"
      ],
      "metadata": {
        "id": "HuUc7ihzJqzV"
      }
    },
    {
      "cell_type": "code",
      "source": [
        "model.save('keras_next_word_model.h5')\n",
        "pickle.dump(history, open(\"history.p\", \"wb\"))\n",
        "model = load_model('keras_next_word_model.h5')\n",
        "history = pickle.load(open(\"history.p\", \"rb\"))"
      ],
      "metadata": {
        "id": "f0J9hMWPJtQW"
      },
      "execution_count": 13,
      "outputs": []
    },
    {
      "cell_type": "code",
      "source": [
        "history"
      ],
      "metadata": {
        "colab": {
          "base_uri": "https://localhost:8080/"
        },
        "id": "mfaC4Dq_Juds",
        "outputId": "907bb44e-6178-4625-8489-43a25c58992d"
      },
      "execution_count": 14,
      "outputs": [
        {
          "output_type": "execute_result",
          "data": {
            "text/plain": [
              "{'loss': [6.010300159454346,\n",
              "  5.765323162078857,\n",
              "  5.7562360763549805,\n",
              "  5.452525615692139,\n",
              "  5.150818347930908,\n",
              "  4.908461093902588,\n",
              "  4.663520336151123,\n",
              "  4.420294761657715,\n",
              "  4.250064849853516,\n",
              "  4.108822345733643],\n",
              " 'accuracy': [0.1066606268286705,\n",
              "  0.14757274091243744,\n",
              "  0.17646661400794983,\n",
              "  0.20963963866233826,\n",
              "  0.2455015927553177,\n",
              "  0.2842741310596466,\n",
              "  0.3226322531700134,\n",
              "  0.3613855242729187,\n",
              "  0.3949729800224304,\n",
              "  0.42666178941726685],\n",
              " 'val_loss': [7.04709529876709,\n",
              "  7.933594226837158,\n",
              "  8.124155044555664,\n",
              "  8.09762954711914,\n",
              "  8.223870277404785,\n",
              "  8.573695182800293,\n",
              "  8.657416343688965,\n",
              "  8.79220962524414,\n",
              "  9.087071418762207,\n",
              "  8.990514755249023],\n",
              " 'val_accuracy': [0.10142804682254791,\n",
              "  0.10765287280082703,\n",
              "  0.10344196110963821,\n",
              "  0.10472354292869568,\n",
              "  0.0933723896741867,\n",
              "  0.09264005720615387,\n",
              "  0.08806297928094864,\n",
              "  0.08549981564283371,\n",
              "  0.07982423901557922,\n",
              "  0.07964115589857101]}"
            ]
          },
          "metadata": {},
          "execution_count": 14
        }
      ]
    },
    {
      "cell_type": "markdown",
      "source": [
        "#Evaluation"
      ],
      "metadata": {
        "id": "1nQP9eb6JwLV"
      }
    },
    {
      "cell_type": "code",
      "source": [
        "plt.plot(history['accuracy'])\n",
        "plt.plot(history['val_accuracy'])\n",
        "plt.title('model accuracy')\n",
        "plt.ylabel('accuracy')\n",
        "plt.xlabel('epoch')\n",
        "plt.legend(['train', 'test'], loc='upper left')"
      ],
      "metadata": {
        "colab": {
          "base_uri": "https://localhost:8080/",
          "height": 313
        },
        "id": "VsniVFn2JxKl",
        "outputId": "d1127122-6a76-4d5d-f9a2-31dc119dab8f"
      },
      "execution_count": 15,
      "outputs": [
        {
          "output_type": "execute_result",
          "data": {
            "text/plain": [
              "<matplotlib.legend.Legend at 0x7f2ed333dad0>"
            ]
          },
          "metadata": {},
          "execution_count": 15
        },
        {
          "output_type": "display_data",
          "data": {
            "text/plain": [
              "<Figure size 432x288 with 1 Axes>"
            ],
            "image/png": "[encoded data removed]"
          },
          "metadata": {
            "needs_background": "light"
          }
        }
      ]
    },
    {
      "cell_type": "code",
      "source": [
        "plt.plot(history['loss'])\n",
        "plt.plot(history['val_loss'])\n",
        "plt.title('model loss')\n",
        "plt.ylabel('loss')\n",
        "plt.xlabel('epoch')\n",
        "plt.legend(['train', 'test'], loc='upper left')"
      ],
      "metadata": {
        "colab": {
          "base_uri": "https://localhost:8080/",
          "height": 313
        },
        "id": "jXlj3QvmJy5C",
        "outputId": "3ac85dda-898a-41af-84bd-23a5b4dfaa66"
      },
      "execution_count": 16,
      "outputs": [
        {
          "output_type": "execute_result",
          "data": {
            "text/plain": [
              "<matplotlib.legend.Legend at 0x7f2ecf910cd0>"
            ]
          },
          "metadata": {},
          "execution_count": 16
        },
        {
          "output_type": "display_data",
          "data": {
            "text/plain": [
              "<Figure size 432x288 with 1 Axes>"
            ],
            "image/png": "[encoded data removed]"
          },
          "metadata": {
            "needs_background": "light"
          }
        }
      ]
    },
    {
      "cell_type": "markdown",
      "source": [
        "#Prediction"
      ],
      "metadata": {
        "id": "5Mtvs7pvJ0jS"
      }
    },
    {
      "cell_type": "code",
      "source": [
        "def prepare_input(text):\n",
        "    x = np.zeros((1, WORD_LENGTH, len(unique_words)))\n",
        "    for t, word in enumerate(text.split()):\n",
        "        print(word)\n",
        "        x[0, t, unique_word_index[word]] = 1\n",
        "    return x\n",
        "prepare_input(\"It is not a lack\".lower())"
      ],
      "metadata": {
        "colab": {
          "base_uri": "https://localhost:8080/"
        },
        "id": "Jz8RmF_QJ1ea",
        "outputId": "6e8a6d16-4db4-46e9-85fd-82c458cc21fa"
      },
      "execution_count": 17,
      "outputs": [
        {
          "output_type": "stream",
          "name": "stdout",
          "text": [
            "it\n",
            "is\n",
            "not\n",
            "a\n",
            "lack\n"
          ]
        },
        {
          "output_type": "execute_result",
          "data": {
            "text/plain": [
              "array([[[0., 0., 0., ..., 0., 0., 0.],\n",
              "        [0., 0., 0., ..., 0., 0., 0.],\n",
              "        [0., 0., 0., ..., 0., 0., 0.],\n",
              "        [0., 0., 0., ..., 0., 0., 0.],\n",
              "        [0., 0., 0., ..., 0., 0., 0.]]])"
            ]
          },
          "metadata": {},
          "execution_count": 17
        }
      ]
    },
    {
      "cell_type": "code",
      "source": [
        "def sample(preds, top_n=3):\n",
        "    preds = np.asarray(preds).astype('float64')\n",
        "    preds = np.log(preds)\n",
        "    exp_preds = np.exp(preds)\n",
        "    preds = exp_preds / np.sum(exp_preds)\n",
        "\n",
        "    return heapq.nlargest(top_n, range(len(preds)), preds.take)"
      ],
      "metadata": {
        "id": "arT9xDWcJ274"
      },
      "execution_count": 18,
      "outputs": []
    },
    {
      "cell_type": "code",
      "source": [
        "def predict_completions(text, n=3):\n",
        "    if text == \"\":\n",
        "        return(\"0\")\n",
        "    x = prepare_input(text)\n",
        "    preds = model.predict(x, verbose=0)[0]\n",
        "    next_indices = sample(preds, n)\n",
        "    return [unique_words[idx] for idx in next_indices]"
      ],
      "metadata": {
        "id": "hpSd7MngJ4be"
      },
      "execution_count": 19,
      "outputs": []
    },
    {
      "cell_type": "code",
      "source": [
        "q =  \"There is nothing more deceptive than an obvious fact\"\n",
        "print(\"correct sentence: \",q)\n",
        "seq = \" \".join(tokenizer.tokenize(q.lower())[0:5])\n",
        "print(\"Sequence: \",seq)\n",
        "print(\"next possible words: \", predict_completions(seq, 5))"
      ],
      "metadata": {
        "colab": {
          "base_uri": "https://localhost:8080/"
        },
        "id": "xCVE54TnJ51T",
        "outputId": "741cac98-7f80-47eb-c5db-fda72e34b496"
      },
      "execution_count": 20,
      "outputs": [
        {
          "output_type": "stream",
          "name": "stdout",
          "text": [
            "correct sentence:  There is nothing more deceptive than an obvious fact\n",
            "Sequence:  there is nothing more deceptive\n",
            "there\n",
            "is\n",
            "nothing\n",
            "more\n",
            "deceptive\n",
            "next possible words:  ['than', 'i', 'but', 'for', 'your']\n"
          ]
        }
      ]
    }
  ]
}